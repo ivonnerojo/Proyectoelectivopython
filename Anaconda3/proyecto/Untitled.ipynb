{
 "cells": [
  {
   "cell_type": "markdown",
   "metadata": {},
   "source": [
    "respaldo"
   ]
  },
  {
   "cell_type": "code",
   "execution_count": 1,
   "metadata": {
    "collapsed": true
   },
   "outputs": [],
   "source": [
    "import pandas as pd\n",
    "import numpy as np\n",
    "\n",
    "pd.set_option('max_columns' , 90)\n",
    "pd.set_option('max_rows' , 50)\n",
    "\n",
    "ruta_sismos = 'datos/sismos.xlsx'\n",
    "\n",
    "##!wc -l $ruta_sismos\n"
   ]
  },
  {
   "cell_type": "code",
   "execution_count": 2,
   "metadata": {
    "collapsed": false
   },
   "outputs": [
    {
     "name": "stdout",
     "output_type": "stream",
     "text": [
      "Wall time: 10.6 s\n",
      "Wall time: 2.86 s\n"
     ]
    }
   ],
   "source": [
    "#Lectura del excel \n",
    "%time _ =  excel_sismos = pd.ExcelFile(ruta_sismos)\n",
    "%time _ = sismos = excel_sismos.parse('Sheet1') ##sismos es la hoja de excel\n"
   ]
  },
  {
   "cell_type": "code",
   "execution_count": 5,
   "metadata": {
    "collapsed": false
   },
   "outputs": [
    {
     "name": "stdout",
     "output_type": "stream",
     "text": [
      "      Fecha local Hora Local  Fecha UTC  Hora UTC   Latitud  Longitud  \\\n",
      "0      2003-01-01   16:26:00 2003-01-01  19:26:00    -34.71 -70174.00   \n",
      "1      2003-01-01   14:22:00 2003-01-01  17:22:00 -35112.00 -71375.00   \n",
      "2      2003-01-01   14:02:00 2003-01-01  17:02:00 -31051.00    -71.31   \n",
      "3      2003-01-01   13:25:00 2003-01-01  16:25:00 -30159.00 -70141.00   \n",
      "4      2003-01-01   12:54:00 2003-01-01  15:54:00 -32138.00 -71753.00   \n",
      "5      2003-01-01   12:49:00 2003-01-01  15:49:00 -32331.00    -71.54   \n",
      "6      2003-01-01   07:23:00 2003-01-01  10:23:00 -34509.00 -72185.00   \n",
      "7      2003-01-01   06:07:00 2003-01-01  09:07:00 -31834.00 -70446.00   \n",
      "8      2003-01-01   05:25:00 2003-01-01  08:25:00 -32252.00 -71682.00   \n",
      "9      2003-01-01   03:07:00 2003-01-01  06:07:00 -32252.00 -71719.00   \n",
      "10     2003-01-01   01:35:00 2003-01-01  04:35:00 -30753.00 -71419.00   \n",
      "11     2003-01-01   00:59:00 2003-01-01  03:59:00 -30419.00 -71675.00   \n",
      "12     2003-12-31   23:59:00 2003-01-01  02:59:00 -30403.00 -71597.00   \n",
      "13     2003-01-02   05:24:00 2003-01-02  08:24:00 -33446.00 -70634.00   \n",
      "14     2003-01-02   04:43:00 2003-01-02  07:43:00 -33282.00 -70201.00   \n",
      "15     2003-01-02   03:08:00 2003-01-02  06:08:00 -30644.00    -71.74   \n",
      "16     2003-01-03   16:44:00 2003-01-03  19:44:00 -30958.00 -71499.00   \n",
      "17     2003-01-03   15:37:00 2003-01-03  18:37:00 -34426.00 -70013.00   \n",
      "18     2003-01-03   15:27:00 2003-01-03  18:27:00 -34413.00 -69991.00   \n",
      "19     2003-01-03   15:23:00 2003-01-03  18:23:00 -34431.00 -69965.00   \n",
      "20     2003-01-03   10:01:00 2003-01-03  13:01:00 -30015.00 -69879.00   \n",
      "21     2003-01-03   06:28:00 2003-01-03  09:28:00 -33688.00 -70417.00   \n",
      "22     2003-01-03   05:29:00 2003-01-03  08:29:00 -30579.00 -71527.00   \n",
      "23     2003-01-03   04:35:00 2003-01-03  07:35:00 -29998.00 -71919.00   \n",
      "24     2003-01-03   03:28:00 2003-01-03  06:28:00    -29.94 -71936.00   \n",
      "...           ...        ...        ...       ...       ...       ...   \n",
      "58261  2015-08-17   10:44:00 2015-08-10  13:44:00 -21948.00 -68723.00   \n",
      "58262  2015-08-17   10:07:00 2015-08-10  13:07:00 -22602.00    -69.07   \n",
      "58263  2015-08-16   09:22:00 2015-08-10  12:22:00 -29513.00 -71137.00   \n",
      "58264  2015-08-18   07:07:00 2015-08-10  10:07:00 -29534.00 -71054.00   \n",
      "58265  2015-08-18   06:47:00 2015-08-10  09:47:00 -23911.00 -67153.00   \n",
      "58266  2015-08-18   20:23:00 2015-08-11  23:23:00 -22009.00    -68.53   \n",
      "58267  2015-08-18   17:23:00 2015-08-11  20:23:00 -17889.00 -70493.00   \n",
      "58268  2015-08-18   15:45:00 2015-08-11  18:45:00 -32595.00 -70867.00   \n",
      "58269  2015-08-18   14:21:00 2015-08-11  17:21:00 -23777.00 -66943.00   \n",
      "58270  2015-08-18   11:59:00 2015-08-11  14:59:00 -19533.00    -69.15   \n",
      "58271  2015-08-18   11:57:00 2015-08-11  14:57:00 -31781.00 -71759.00   \n",
      "58272  2015-08-18   11:25:00 2015-08-11  14:25:00 -21279.00    -68.78   \n",
      "58273  2015-08-18   08:20:00 2015-08-11  11:20:00 -20574.00 -69188.00   \n",
      "58274  2015-08-18   04:32:00 2015-08-11  07:32:00 -30737.00 -71438.00   \n",
      "58275  2015-08-18   04:10:00 2015-08-11  07:10:00 -32407.00 -71066.00   \n",
      "58276  2015-08-17   04:01:00 2015-08-11  07:01:00    -22.32 -67611.00   \n",
      "58277  2015-08-19   03:31:00 2015-08-11  06:31:00 -32223.00 -71687.00   \n",
      "58278  2015-08-19   03:01:00 2015-08-11  06:01:00    -33.79 -71959.00   \n",
      "58279  2015-08-19   20:16:00 2015-08-12  23:16:00 -32745.00 -71533.00   \n",
      "58280  2015-08-19   19:13:00 2015-08-12  22:13:00 -22571.00 -68686.00   \n",
      "58281  2015-08-19   19:03:00 2015-08-12  22:03:00 -21054.00 -68162.00   \n",
      "58282  2015-08-19   17:44:00 2015-08-12  20:44:00 -23821.00 -67058.00   \n",
      "58283  2015-08-19   14:45:00 2015-08-12  17:45:00 -32896.00 -70473.00   \n",
      "58284  2015-08-18   01:42:00 2015-08-12  04:42:00 -21498.00 -68449.00   \n",
      "58285  2015-08-18   21:28:00 2015-08-12  00:28:00 -22595.00 -68842.00   \n",
      "\n",
      "       Profundidad(Km) Magnitud(Mc) Referencia Referencia.1  \\\n",
      "0                  0.0          3.1         76            E   \n",
      "1                 63.1          2.9         44           NE   \n",
      "2                 64.4          2.9         33           NO   \n",
      "3                  5.4          3.3         57            E   \n",
      "4                 11.0          3.6         60           NO   \n",
      "5                 30.3          3.4         47            S   \n",
      "6                 27.7          3.5         45           NO   \n",
      "7                121.2          2.7         50            E   \n",
      "8                 12.3          3.5         48           NO   \n",
      "9                 12.4          3.4         51           NO   \n",
      "10                40.7          3.5         27           SO   \n",
      "11                41.8          3.2         50           NO   \n",
      "12                30.7          3.2         44           NO   \n",
      "13                84.4          2.1         27            S   \n",
      "14                81.8          2.6         42            N   \n",
      "15                 9.1          4.1         51           NO   \n",
      "16                73.9          3.2         48           SO   \n",
      "17                 0.2          3.1         73           SE   \n",
      "18                 7.7          3.3         74            E   \n",
      "19                 2.3          3.3         77           SE   \n",
      "20               136.2          3.4         80            E   \n",
      "21                15.0          2.6         35           SE   \n",
      "22                41.5          4.1         36            S   \n",
      "23                 4.2          3.3         65            O   \n",
      "24                34.3          4.0         66            O   \n",
      "...                ...          ...        ...          ...   \n",
      "58261            111.8          3.1         62            N   \n",
      "58262             88.1          3.1         21           SO   \n",
      "58263             52.6          2.7        6 k            d   \n",
      "58264             44.0          2.9         14            E   \n",
      "58265            166.2          3.4         83           SE   \n",
      "58266            116.8          3.1         66           NE   \n",
      "58267             22.5          2.7         30           NO   \n",
      "58268             75.5          4.2         37           NO   \n",
      "58269            238.2          3.9         99            E   \n",
      "58270            100.3          2.5         38           SE   \n",
      "58271             26.1          2.9         28           NO   \n",
      "58272            119.3          2.5         52            S   \n",
      "58273             89.9          3.6         17           SE   \n",
      "58274             50.1          3.5         20           NO   \n",
      "58275             65.7          2.7         16            E   \n",
      "58276            197.0          3.1         90           NE   \n",
      "58277             26.4          2.5         38           SO   \n",
      "58278             28.4          2.6         22           NO   \n",
      "58279             41.8          3.5         31           NO   \n",
      "58280            107.9          2.6         27            E   \n",
      "58281            147.2          3.2         21           NE   \n",
      "58282            248.8          3.1         89            E   \n",
      "58283             13.8          2.8         14           SE   \n",
      "58284            138.1          2.8         37           SO   \n",
      "58285            103.3          3.5         17           SE   \n",
      "\n",
      "                  localidad  \n",
      "0              San Fernando  \n",
      "1                     Talca  \n",
      "2                Combarbala  \n",
      "3                    Vicuña  \n",
      "4                  La Ligua  \n",
      "5                 Los Vilos  \n",
      "6                 Vichuquen  \n",
      "7                 Salamanca  \n",
      "8                  La Ligua  \n",
      "9                  La Ligua  \n",
      "10                   Ovalle  \n",
      "11                   Ovalle  \n",
      "12                   Ovalle  \n",
      "13                   Colina  \n",
      "14        San José de Maipo  \n",
      "15                Punitaqui  \n",
      "16                   Ovalle  \n",
      "17                 Rancagua  \n",
      "18                 Rancagua  \n",
      "19                 Rancagua  \n",
      "20                   Vicuña  \n",
      "21                 Santiago  \n",
      "22                   Tongoy  \n",
      "23                La Serena  \n",
      "24                La Serena  \n",
      "...                     ...  \n",
      "58261               Ollague  \n",
      "58262             Quillagua  \n",
      "58263              La Ligua  \n",
      "58264                  Pica  \n",
      "58265           Maria Elena  \n",
      "58266               Socaire  \n",
      "58267               Socaire  \n",
      "58268              La Ligua  \n",
      "58269             Vichuquen  \n",
      "58270             Los Vilos  \n",
      "58271  San Pedro de Atacama  \n",
      "58272              Paihuano  \n",
      "58273       Mina Collahuasi  \n",
      "58274            Los Andes.  \n",
      "58275                Calama  \n",
      "58276                  Pica  \n",
      "58277                 Uyuni  \n",
      "58278               Ollague  \n",
      "58279               Socaire  \n",
      "58280               Ollague  \n",
      "58281             Baquedano  \n",
      "58282             Pichilemu  \n",
      "58283              La Ligua  \n",
      "58284                 Uyuni  \n",
      "58285             Baquedano  \n",
      "\n",
      "[58286 rows x 11 columns]\n"
     ]
    }
   ],
   "source": [
    "##visualizacion de excel\n",
    "print(sismos)"
   ]
  },
  {
   "cell_type": "code",
   "execution_count": 6,
   "metadata": {
    "collapsed": false
   },
   "outputs": [],
   "source": [
    "sismos= sismos.rename(columns={'Fecha local':'Fecha'})"
   ]
  },
  {
   "cell_type": "code",
   "execution_count": 23,
   "metadata": {
    "collapsed": false
   },
   "outputs": [
    {
     "ename": "XLRDError",
     "evalue": "No sheet named <'Magnitud'>",
     "output_type": "error",
     "traceback": [
      "\u001b[1;31m---------------------------------------------------------------------------\u001b[0m",
      "\u001b[1;31mValueError\u001b[0m                                Traceback (most recent call last)",
      "\u001b[1;32mC:\\Anaconda3\\lib\\site-packages\\xlrd\\book.py\u001b[0m in \u001b[0;36msheet_by_name\u001b[1;34m(self, sheet_name)\u001b[0m\n\u001b[0;32m    438\u001b[0m         \u001b[1;32mtry\u001b[0m\u001b[1;33m:\u001b[0m\u001b[1;33m\u001b[0m\u001b[0m\n\u001b[1;32m--> 439\u001b[1;33m             \u001b[0msheetx\u001b[0m \u001b[1;33m=\u001b[0m \u001b[0mself\u001b[0m\u001b[1;33m.\u001b[0m\u001b[0m_sheet_names\u001b[0m\u001b[1;33m.\u001b[0m\u001b[0mindex\u001b[0m\u001b[1;33m(\u001b[0m\u001b[0msheet_name\u001b[0m\u001b[1;33m)\u001b[0m\u001b[1;33m\u001b[0m\u001b[0m\n\u001b[0m\u001b[0;32m    440\u001b[0m         \u001b[1;32mexcept\u001b[0m \u001b[0mValueError\u001b[0m\u001b[1;33m:\u001b[0m\u001b[1;33m\u001b[0m\u001b[0m\n",
      "\u001b[1;31mValueError\u001b[0m: 'Magnitud' is not in list",
      "\nDuring handling of the above exception, another exception occurred:\n",
      "\u001b[1;31mXLRDError\u001b[0m                                 Traceback (most recent call last)",
      "\u001b[1;32m<ipython-input-23-8afb5ca3aec3>\u001b[0m in \u001b[0;36m<module>\u001b[1;34m()\u001b[0m\n\u001b[1;32m----> 1\u001b[1;33m \u001b[0mdf\u001b[0m \u001b[1;33m=\u001b[0m\u001b[0mpd\u001b[0m\u001b[1;33m.\u001b[0m\u001b[0mread_excel\u001b[0m\u001b[1;33m(\u001b[0m\u001b[1;34m'datos/sismos.xlsx'\u001b[0m\u001b[1;33m,\u001b[0m \u001b[1;34m'Magnitud'\u001b[0m\u001b[1;33m)\u001b[0m\u001b[1;33m\u001b[0m\u001b[0m\n\u001b[0m\u001b[0;32m      2\u001b[0m \u001b[0mprint\u001b[0m\u001b[1;33m(\u001b[0m\u001b[0mdf\u001b[0m\u001b[1;33m)\u001b[0m\u001b[1;33m\u001b[0m\u001b[0m\n",
      "\u001b[1;32mC:\\Anaconda3\\lib\\site-packages\\pandas\\io\\excel.py\u001b[0m in \u001b[0;36mread_excel\u001b[1;34m(io, sheetname, header, skiprows, skip_footer, index_col, names, parse_cols, parse_dates, date_parser, na_values, thousands, convert_float, has_index_names, converters, engine, squeeze, **kwds)\u001b[0m\n\u001b[0;32m    175\u001b[0m         \u001b[0mconvert_float\u001b[0m\u001b[1;33m=\u001b[0m\u001b[0mconvert_float\u001b[0m\u001b[1;33m,\u001b[0m \u001b[0mhas_index_names\u001b[0m\u001b[1;33m=\u001b[0m\u001b[0mhas_index_names\u001b[0m\u001b[1;33m,\u001b[0m\u001b[1;33m\u001b[0m\u001b[0m\n\u001b[0;32m    176\u001b[0m         \u001b[0mskip_footer\u001b[0m\u001b[1;33m=\u001b[0m\u001b[0mskip_footer\u001b[0m\u001b[1;33m,\u001b[0m \u001b[0mconverters\u001b[0m\u001b[1;33m=\u001b[0m\u001b[0mconverters\u001b[0m\u001b[1;33m,\u001b[0m\u001b[1;33m\u001b[0m\u001b[0m\n\u001b[1;32m--> 177\u001b[1;33m         squeeze=squeeze, **kwds)\n\u001b[0m\u001b[0;32m    178\u001b[0m \u001b[1;33m\u001b[0m\u001b[0m\n\u001b[0;32m    179\u001b[0m \u001b[1;33m\u001b[0m\u001b[0m\n",
      "\u001b[1;32mC:\\Anaconda3\\lib\\site-packages\\pandas\\io\\excel.py\u001b[0m in \u001b[0;36m_parse_excel\u001b[1;34m(self, sheetname, header, skiprows, skip_footer, index_col, has_index_names, parse_cols, parse_dates, date_parser, na_values, thousands, convert_float, verbose, squeeze, **kwds)\u001b[0m\n\u001b[0;32m    391\u001b[0m \u001b[1;33m\u001b[0m\u001b[0m\n\u001b[0;32m    392\u001b[0m             \u001b[1;32mif\u001b[0m \u001b[0misinstance\u001b[0m\u001b[1;33m(\u001b[0m\u001b[0masheetname\u001b[0m\u001b[1;33m,\u001b[0m \u001b[0mcompat\u001b[0m\u001b[1;33m.\u001b[0m\u001b[0mstring_types\u001b[0m\u001b[1;33m)\u001b[0m\u001b[1;33m:\u001b[0m\u001b[1;33m\u001b[0m\u001b[0m\n\u001b[1;32m--> 393\u001b[1;33m                 \u001b[0msheet\u001b[0m \u001b[1;33m=\u001b[0m \u001b[0mself\u001b[0m\u001b[1;33m.\u001b[0m\u001b[0mbook\u001b[0m\u001b[1;33m.\u001b[0m\u001b[0msheet_by_name\u001b[0m\u001b[1;33m(\u001b[0m\u001b[0masheetname\u001b[0m\u001b[1;33m)\u001b[0m\u001b[1;33m\u001b[0m\u001b[0m\n\u001b[0m\u001b[0;32m    394\u001b[0m             \u001b[1;32melse\u001b[0m\u001b[1;33m:\u001b[0m  \u001b[1;31m# assume an integer if not a string\u001b[0m\u001b[1;33m\u001b[0m\u001b[0m\n\u001b[0;32m    395\u001b[0m                 \u001b[0msheet\u001b[0m \u001b[1;33m=\u001b[0m \u001b[0mself\u001b[0m\u001b[1;33m.\u001b[0m\u001b[0mbook\u001b[0m\u001b[1;33m.\u001b[0m\u001b[0msheet_by_index\u001b[0m\u001b[1;33m(\u001b[0m\u001b[0masheetname\u001b[0m\u001b[1;33m)\u001b[0m\u001b[1;33m\u001b[0m\u001b[0m\n",
      "\u001b[1;32mC:\\Anaconda3\\lib\\site-packages\\xlrd\\book.py\u001b[0m in \u001b[0;36msheet_by_name\u001b[1;34m(self, sheet_name)\u001b[0m\n\u001b[0;32m    439\u001b[0m             \u001b[0msheetx\u001b[0m \u001b[1;33m=\u001b[0m \u001b[0mself\u001b[0m\u001b[1;33m.\u001b[0m\u001b[0m_sheet_names\u001b[0m\u001b[1;33m.\u001b[0m\u001b[0mindex\u001b[0m\u001b[1;33m(\u001b[0m\u001b[0msheet_name\u001b[0m\u001b[1;33m)\u001b[0m\u001b[1;33m\u001b[0m\u001b[0m\n\u001b[0;32m    440\u001b[0m         \u001b[1;32mexcept\u001b[0m \u001b[0mValueError\u001b[0m\u001b[1;33m:\u001b[0m\u001b[1;33m\u001b[0m\u001b[0m\n\u001b[1;32m--> 441\u001b[1;33m             \u001b[1;32mraise\u001b[0m \u001b[0mXLRDError\u001b[0m\u001b[1;33m(\u001b[0m\u001b[1;34m'No sheet named <%r>'\u001b[0m \u001b[1;33m%\u001b[0m \u001b[0msheet_name\u001b[0m\u001b[1;33m)\u001b[0m\u001b[1;33m\u001b[0m\u001b[0m\n\u001b[0m\u001b[0;32m    442\u001b[0m         \u001b[1;32mreturn\u001b[0m \u001b[0mself\u001b[0m\u001b[1;33m.\u001b[0m\u001b[0msheet_by_index\u001b[0m\u001b[1;33m(\u001b[0m\u001b[0msheetx\u001b[0m\u001b[1;33m)\u001b[0m\u001b[1;33m\u001b[0m\u001b[0m\n\u001b[0;32m    443\u001b[0m \u001b[1;33m\u001b[0m\u001b[0m\n",
      "\u001b[1;31mXLRDError\u001b[0m: No sheet named <'Magnitud'>"
     ]
    }
   ],
   "source": []
  },
  {
   "cell_type": "code",
   "execution_count": null,
   "metadata": {
    "collapsed": true
   },
   "outputs": [],
   "source": []
  }
 ],
 "metadata": {
  "kernelspec": {
   "display_name": "Python 3",
   "language": "python",
   "name": "python3"
  },
  "language_info": {
   "codemirror_mode": {
    "name": "ipython",
    "version": 3
   },
   "file_extension": ".py",
   "mimetype": "text/x-python",
   "name": "python",
   "nbconvert_exporter": "python",
   "pygments_lexer": "ipython3",
   "version": "3.5.1"
  }
 },
 "nbformat": 4,
 "nbformat_minor": 0
}

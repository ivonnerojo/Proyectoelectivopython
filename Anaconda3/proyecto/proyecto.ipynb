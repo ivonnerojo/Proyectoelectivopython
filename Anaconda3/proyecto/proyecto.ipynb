{
 "cells": [
  {
   "cell_type": "markdown",
   "metadata": {
    "collapsed": true
   },
   "source": [
    "# Anteproyecto"
   ]
  },
  {
   "cell_type": "markdown",
   "metadata": {
    "collapsed": true
   },
   "source": [
    "## Ambito \n",
    "Este proyecto tiene como finalidad realizar un  análisis de los datos de Sismos en Chile , entregando informacion de la actividad sismica por Region en un mes y año determinado.\n",
    "Para efectuar el analisis se tomaran los  datos  de sismos  entre los años 2003-2015 . \n",
    "\n"
   ]
  },
  {
   "cell_type": "markdown",
   "metadata": {},
   "source": [
    "## Objetivo\n",
    "\n",
    "*Dar información precisa y relevante sobre la Actividad  sismica por Region, por mes y año \n",
    "\n",
    "*El objetivo será proveer de la información necesaria que permita definir y responder a la inquietud explicada en el apartado pregunta\n",
    "\n"
   ]
  },
  {
   "cell_type": "markdown",
   "metadata": {},
   "source": [
    "## Fuente de datos\n",
    "\n",
    "> #### Archivos sismos\n",
    "\n",
    ">>La informacion de los sismos fue obtenido del  Centro Sismológico Nacional, Universidad de Chile www.sismologia.cl. \n",
    "Este centro mantiene Información actualizada sobre la actividad sismológica en las localidades de Chile.\n",
    "Este documento cuenta con 9 columnas las cuales son nombradas a continuacion :\n",
    "* **Fecha local\t**\n",
    "* **Fecha UTC\t**\n",
    "* **Latitud\t**\n",
    "* **Longitud\t**\n",
    "* **Profundidad(Km) **\n",
    "* **Magnitud\t**\n",
    "* **Referencia(km)**\t\n",
    "* **Ubicación\t**\n",
    "***Localidad**\n",
    "\n",
    "La definicion de cada una de ellas se encuentra en el diccionario de datos\n",
    "\n",
    "> ##### Regiones Chile\n",
    "\n",
    ">>La informacion de las regiones de Chile fue obtenido de  INE  Instituto Nacional de Estadísticas, institución que genera todas las estadísticas oficiales de Chile pagina oficial www.ine.cl\n"
   ]
  },
  {
   "cell_type": "markdown",
   "metadata": {},
   "source": [
    "## Pregunta\n",
    "##### ¿Cual es la region que tiene mayor Actividad sismica segun mes, año?\n",
    "\n",
    "Para dar respuesta a esta interrogante es que se determino realizar utilizar dos archivos de formato excel uno de los cuales cuenta con los datos de sismos por localidad de chile entre los años 2003-2015 y otro archivo que cuenta con los datos  de  cada Region de chile con sus respectivas localidades las columnas de estos dos archivos se explicaran en el diccionario de datos \n",
    "\n",
    "ademas para un analisis mas completo  es que responderan a subpreguntas que  permitan un analisis mas profundo, estas preguntas son:\n",
    "\n",
    ">>>#### ¿cantidad de sismos por localidad?  (mes año) \n",
    "#### ¿cantidad de sismos por localidad sismos, mayor a 5 grados y menor a 7 grados?  (mes,año)\n",
    "#### ¿ cantidad de sismos por localidad mayor a 7 grados? (mes,año)\n",
    "\n",
    "se determino la realizacion del analisis  con pregunta y subpregunta para permitir desagregar  la informacion\n",
    "\n",
    "Ademas la pregunta Global se dividira en Regiones con sismos mayores a 5 grados y menos a 7 grados y regiones con sismos mayor a 7 grados\n",
    "\n"
   ]
  },
  {
   "cell_type": "markdown",
   "metadata": {},
   "source": [
    "## Diccionario de datos \n",
    "\n",
    "Tabla de datos de de Sismos\t\t\t\t\n",
    "\t\t\t\n",
    "\n",
    "\n",
    "|Datos               | Tipo  |Breve Descripccion                         |\n",
    "| -------------------| ----------                                 |\n",
    "| Fecha Local        | date  |  Fecha oficial de Chile continental y territorio    |\n",
    "| Fecha UTC          | date\t|Tiempo Universal Coordinado, o UTC, también conocido como tiempo civil,                                                          es la zona horaria de referencia  respecto a la cual se calculan todas las otras zonas del mundo.   |\n",
    "| Latitud\t         | numero |La latitud proporciona la localización de un lugar al norte o al sur del ecuador, se expresa con medidas                         angulares que van desde 0° en el ecuador hasta 90° en los polos (latitud norte /latitud sur)  |\n",
    "| Longitud           | numero |La longitud representa la localización de un lugar al este o al oeste de una línea norte-sur denominada                         meridiano de referencia (Greenwich), se mide en ángulos que van de 0° en el meridiano de origen a 180°                           en la línea internacional de cambio de fecha  |\n",
    "| Profundidad(Km)    | numero |La profundidad de un sismo es la medida desde la superficie de la tierra en el punto llamado epicentro                           hasta el punto exacto donde se produjo el sismo, llamado hipocentro. Esta medida es muy importante para                         los sismólogos, pues con ella se pueden determinar las características del sismo y su comportamiento en                         la superficie.   |\n",
    "| Magnitud           | numero |Es una medida que tiene relación con la cantidad de energía liberada en forma de ondas. Se puede                                 considerar como un tamaño relativo de un temblor y se determina tomando el logaritmo (base 10) de la                             amplitud máxima de movimiento de algún tipo de onda (P, Superficial) a la cual se le aplica una                                 corrección por distancia epicentral y profundidad focal. En oposición a la intensidad, un sismo posee                           solamente una medida de magnitud y varias observaciones de intensidad  |\n",
    "| Referencia(km)     | numero|Distancia en kilimetros de la localidad  donde ocurrio el sismo |\n",
    "| Ubicación          | string|Ubicacion  geograficas de el lugar en Chile que  ocurrio el sismo|\n",
    "| Localidad          | String|Lugar de Chile donde ocurrio el sismo |\n",
    "\n",
    "Tabla de datos de Regiones\n",
    "\n",
    "|Datos                      |      Abreviatura   |Breve Descripccion                         |\n",
    "| --------------------------| ----------                                 |\n",
    "| Código Unico Territorial  | CUT /String  | CUT: Código Único Territorial, que corresponde a una codificación numérica única de la                                          División Política y Administrativa del país, que es utilizada por el Estado para agilizar                                        y hacer compatibles sus actividades. |\n",
    "| Comuna                    | String  |Las comunas son la división administrativa menor y básica  |\n",
    "| Provincia                 | String |son las subdivisiones territoriales intermedias del país, inferiores a las regiones y superiores                                  a las comunas.   |\n",
    "| Región                    | String | Las regiones chilenas se subdividen, a efectos del gobierno y administración, en provincias y                                    éstas a su vez, para efectos de la administración local, en comunas.  |"
   ]
  },
  {
   "cell_type": "markdown",
   "metadata": {
    "collapsed": true
   },
   "source": [
    "## Diseño \n",
    "\n",
    "Para  dar respuesta a las distintas preguntas anteriormente mencionadas se uilizaran los datos de:\n",
    "\n",
    ">>**Archivo de Sismos**\n",
    " * Fecha local\n",
    " * Magnitud\n",
    " * Localidad\n",
    "\n",
    ">>**Archivo de Regiones de Chile** \n",
    "  * Provincia \n",
    "  * Comuna  \n",
    "  * Región\n",
    "\n",
    "El analisis final contempla la muestra de graficos por Region, localidad, comuna , provincia de Chile segun corresponda  donde se podra observar la actividad sismica correspondiente a un mes y año especifico\n",
    "  \n",
    "La muestra de resultados de las Subpreguntas sera de la siguiente manera:\n",
    "              \n",
    "  * ** Graficos por localidad con el total de los sismos en por mes y año (sin importar magnitud)**\n",
    " *  ** Graficos por localidad con el total de los sismos mayores de 5 grados y menores a 7 grados pr mes y año **\n",
    " *  ** Graficos por localidad con el total de los sismos mayores a 7 grados pr mes y año **\n",
    "  \n",
    "              \n",
    "> ** Ejemplo  Canela baja**\n",
    "* Localidad de Canela Baja  mes de marzo  año 2003  4 sismos (sin importar magnitud)\n",
    "* Localidad de Canela Baja  mes de marzo  año 2004  5 sismos (sin importar magnitud)\n",
    "* Localidad de Canela Baja  mes de marzo  año 2003  3 sismos  mayores de 5 grados y menores a 7 grados \n",
    "* Localidad de Canela Baja  mes de marzo  año 2004  2 sismos  mayores de 5 grados y menores a 7 grados \n",
    "* Localidad de Canela Baja  mes de marzo  año 2003  0 sismos mayores a 7 grados pr mes y año \n",
    "* Localidad de Canela Baja  mes de marzo  año 2004  0 sismos mayores a 7 grados pr mes y año \n",
    "   \n",
    ">**Ejemplo  Vicuña**\n",
    "* Localidad de Vicuña  mes de marzo  año 2003  3 sismos (sin importar magnitud)\n",
    "* Localidad de Vicuña  mes de marzo  año 2004  2 sismos (sin importar magnitud) \n",
    "* Localidad de Vicuña  mes de marzo  año 2003  0 sismos  mayores de 5 grados y menores a 7 grados \n",
    "* Localidad de Vicuña  mes de marzo  año 2004  3 sismos  mayores de 5 grados y menores a 7 grados \n",
    "* Localidad de Vicuña  mes de marzo  año 2003  0 sismos mayores a 7 grados pr mes y año \n",
    "* Localidad de Vicuña  mes de marzo  año 2004  1 sismos mayores a 7 grados pr mes y año \n",
    "    \n",
    " La muestra de resultados de la pregunta global sera de la siguiente manera:\n",
    " \n",
    " * ** Graficos por Region con el total de los sismos en por mes y año (sin importar magnitud)**\n",
    " * ** Graficos por Region con el total de los sismos mayores de 5 grados y menores a 7 grados pr mes y año **\n",
    " * ** Graficos por Region con el total de los sismos mayores a 7 grados pr mes y año **\n",
    "   \n",
    "> **Ejemplo Region Coquimbo**  \n",
    "* Region de Coquimbo  mes de marzo  año 2003  7 sismos (sin importar magnitud)\n",
    "* Region de Coquimbo  mes de marzo  año 2004  7 sismos (sin importar magnitud) \n",
    "* Region de Coquimbo  mes de marzo  año 2003  3 sismos  mayores de 5 grados y menores a 7 grados \n",
    "* Region de Coquimbo  mes de marzo  año 2004  5 sismos  mayores de 5 grados y menores a 7 grados \n",
    "* Region de Coquimbo  mes de marzo  año 2003  0 sismos mayores a 7 grados pr mes y año \n",
    "* Region de Coquimbo  mes de marzo  año 2004  1 sismos mayores a 7 grados pr mes y año \n",
    "   \n",
    "   \n",
    "   NOTA: datos solo de tipo ejemplo\n",
    "   \n",
    "\n",
    "Como se puede observar en el ejemplo anterior para saber cuantos sismos ocurrieron en un mes  y año determinado  de alguna Region se debe  saber en que localidad se produjo un sismo para luego asociarlo a que region pertenece dicha localidad\n",
    "\n",
    "\n",
    "Nota: entiendase por localidad, comunas provincias u pueblos no considerados ni comunas ni provincias\n",
    "\n"
   ]
  },
  {
   "cell_type": "markdown",
   "metadata": {
    "collapsed": true
   },
   "source": [
    "## Representación de datos\n",
    "\n",
    "Los datos seran representados a traves de graficos de dispersión"
   ]
  },
  {
   "cell_type": "code",
   "execution_count": null,
   "metadata": {
    "collapsed": true
   },
   "outputs": [],
   "source": []
  },
  {
   "cell_type": "code",
   "execution_count": null,
   "metadata": {
    "collapsed": true
   },
   "outputs": [],
   "source": []
  },
  {
   "cell_type": "code",
   "execution_count": null,
   "metadata": {
    "collapsed": true
   },
   "outputs": [],
   "source": []
  }
 ],
 "metadata": {
  "kernelspec": {
   "display_name": "Python 3",
   "language": "python",
   "name": "python3"
  },
  "language_info": {
   "codemirror_mode": {
    "name": "ipython",
    "version": 3
   },
   "file_extension": ".py",
   "mimetype": "text/x-python",
   "name": "python",
   "nbconvert_exporter": "python",
   "pygments_lexer": "ipython3",
   "version": "3.5.1"
  }
 },
 "nbformat": 4,
 "nbformat_minor": 0
}
